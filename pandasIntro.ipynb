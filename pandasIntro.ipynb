{
  "nbformat": 4,
  "nbformat_minor": 0,
  "metadata": {
    "colab": {
      "name": "pandasIntro.ipynb",
      "provenance": [],
      "authorship_tag": "ABX9TyOnCbT0w6X1KERYR1LPRKMP",
      "include_colab_link": true
    },
    "kernelspec": {
      "name": "python3",
      "display_name": "Python 3"
    },
    "language_info": {
      "name": "python"
    }
  },
  "cells": [
    {
      "cell_type": "markdown",
      "metadata": {
        "id": "view-in-github",
        "colab_type": "text"
      },
      "source": [
        "<a href=\"https://colab.research.google.com/github/MindMansion/pandasColab/blob/main/pandasIntro.ipynb\" target=\"_parent\"><img src=\"https://colab.research.google.com/assets/colab-badge.svg\" alt=\"Open In Colab\"/></a>"
      ]
    },
    {
      "cell_type": "markdown",
      "metadata": {
        "id": "mkNWJ5Kzso26"
      },
      "source": [
        "Importing *pandas*"
      ]
    },
    {
      "cell_type": "code",
      "metadata": {
        "id": "LJSSiNklkqa2"
      },
      "source": [
        "import pandas as pd\n",
        "import numpy as np"
      ],
      "execution_count": 14,
      "outputs": []
    },
    {
      "cell_type": "markdown",
      "metadata": {
        "id": "JfgH6vJcsyZb"
      },
      "source": [
        "# Object creation\n",
        "\n",
        "Create **Series** by passing array of random intergers and np.nan"
      ]
    },
    {
      "cell_type": "code",
      "metadata": {
        "colab": {
          "base_uri": "https://localhost:8080/"
        },
        "id": "2DYNrnnItaol",
        "outputId": "628c5120-5a07-45cd-ca01-287af78bbfea"
      },
      "source": [
        "s = pd.Series([1, 4, 9, 8, 5, np.nan])\n",
        "\n",
        "s"
      ],
      "execution_count": 17,
      "outputs": [
        {
          "output_type": "execute_result",
          "data": {
            "text/plain": [
              "0    1.0\n",
              "1    4.0\n",
              "2    9.0\n",
              "3    8.0\n",
              "4    5.0\n",
              "5    NaN\n",
              "dtype: float64"
            ]
          },
          "metadata": {},
          "execution_count": 17
        }
      ]
    },
    {
      "cell_type": "markdown",
      "metadata": {
        "id": "0ZE-2ZdmuI-d"
      },
      "source": [
        "Creating a **DataFrame** "
      ]
    },
    {
      "cell_type": "code",
      "metadata": {
        "colab": {
          "base_uri": "https://localhost:8080/"
        },
        "id": "wASwT_G_uNIv",
        "outputId": "e4141731-60dc-4ddd-a001-c12fdf3a7309"
      },
      "source": [
        "dates = pd.date_range(\"20130101\", periods=60)\n",
        "dates"
      ],
      "execution_count": 20,
      "outputs": [
        {
          "output_type": "execute_result",
          "data": {
            "text/plain": [
              "DatetimeIndex(['2013-01-01', '2013-01-02', '2013-01-03', '2013-01-04',\n",
              "               '2013-01-05', '2013-01-06', '2013-01-07', '2013-01-08',\n",
              "               '2013-01-09', '2013-01-10', '2013-01-11', '2013-01-12',\n",
              "               '2013-01-13', '2013-01-14', '2013-01-15', '2013-01-16',\n",
              "               '2013-01-17', '2013-01-18', '2013-01-19', '2013-01-20',\n",
              "               '2013-01-21', '2013-01-22', '2013-01-23', '2013-01-24',\n",
              "               '2013-01-25', '2013-01-26', '2013-01-27', '2013-01-28',\n",
              "               '2013-01-29', '2013-01-30', '2013-01-31', '2013-02-01',\n",
              "               '2013-02-02', '2013-02-03', '2013-02-04', '2013-02-05',\n",
              "               '2013-02-06', '2013-02-07', '2013-02-08', '2013-02-09',\n",
              "               '2013-02-10', '2013-02-11', '2013-02-12', '2013-02-13',\n",
              "               '2013-02-14', '2013-02-15', '2013-02-16', '2013-02-17',\n",
              "               '2013-02-18', '2013-02-19', '2013-02-20', '2013-02-21',\n",
              "               '2013-02-22', '2013-02-23', '2013-02-24', '2013-02-25',\n",
              "               '2013-02-26', '2013-02-27', '2013-02-28', '2013-03-01'],\n",
              "              dtype='datetime64[ns]', freq='D')"
            ]
          },
          "metadata": {},
          "execution_count": 20
        }
      ]
    }
  ]
}